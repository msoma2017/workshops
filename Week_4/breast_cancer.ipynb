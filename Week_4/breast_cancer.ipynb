{
 "cells": [
  {
   "cell_type": "markdown",
   "metadata": {},
   "source": [
    "## Breast Cancer Dataset Example\n",
    "Using sklearn.datasets.load_breast_cancer(return_X_y=False), you can load the breast cancer wisconsin dataset (classification). The breast cancer dataset is a classic and very easy binary classification dataset.\n",
    "\n",
    "Classes 2\n",
    "\n",
    "Samples per class 212(M),357(B)\n",
    "\n",
    "Samples total 569\n",
    "\n",
    "Dimensionality 30\n",
    "\n",
    "Features real, positive\n",
    "\n"
   ]
  },
  {
   "cell_type": "code",
   "execution_count": null,
   "metadata": {
    "collapsed": false
   },
   "outputs": [],
   "source": [
    "#importations\n",
    "from sklearn import datasets,svm,metrics, neighbors, linear_model"
   ]
  },
  {
   "cell_type": "markdown",
   "metadata": {},
   "source": [
    "## 1. Train\n",
    "### a.) Load the data"
   ]
  },
  {
   "cell_type": "code",
   "execution_count": null,
   "metadata": {
    "collapsed": false
   },
   "outputs": [],
   "source": [
    "bc = datasets.load_breast_cancer()\n",
    "data = bc.data\n",
    "data.shape"
   ]
  },
  {
   "cell_type": "code",
   "execution_count": null,
   "metadata": {
    "collapsed": false
   },
   "outputs": [],
   "source": [
    "targets = bc.target\n",
    "targets.shape"
   ]
  },
  {
   "cell_type": "code",
   "execution_count": null,
   "metadata": {
    "collapsed": false
   },
   "outputs": [],
   "source": [
    "bc.target_names"
   ]
  },
  {
   "cell_type": "markdown",
   "metadata": {},
   "source": [
    "### b.) Separate the Training set and the Test set\n",
    "\n",
    "Let's assume we want to train with 3/4 of the data and use the 1/4 for testing. \n",
    "We will remove one more from the set to act as a real life example.\n",
    "\n"
   ]
  },
  {
   "cell_type": "code",
   "execution_count": 14,
   "metadata": {
    "collapsed": false
   },
   "outputs": [
    {
     "name": "stdout",
     "output_type": "stream",
     "text": [
      "Out of  569  examples/samples, we will use  426  for training.\n"
     ]
    }
   ],
   "source": [
    "n_samples = len(targets) #Total no. of examples/samples\n",
    "trainingset_size = int(n_samples*0.75)\n",
    "print('Out of ',n_samples, ' examples/samples, we will use ',trainingset_size,' for training.' )\n"
   ]
  },
  {
   "cell_type": "code",
   "execution_count": 19,
   "metadata": {
    "collapsed": false
   },
   "outputs": [
    {
     "name": "stdout",
     "output_type": "stream",
     "text": [
      "The input training set is of shape:  (426, 30)\n",
      "The input test set is of shape:  (142, 30)\n"
     ]
    }
   ],
   "source": [
    "\n",
    "X_trainingset = data[:trainingset_size]\n",
    "Y_trainingset = targets[:trainingset_size]\n",
    "\n",
    "X_testset = data[trainingset_size:-1]\n",
    "y_testset = targets[trainingset_size:-1]\n",
    "\n",
    "#Assume this was a new case from the real world\n",
    "real_world_X = data[-1]\n",
    "real_world_y = targets[-1]\n",
    "\n",
    "print('The input training set is of shape: ',X_trainingset.shape)\n",
    "print('The input test set is of shape: ',X_testset.shape)\n"
   ]
  },
  {
   "cell_type": "markdown",
   "metadata": {},
   "source": [
    "### c.) Create and train a classifier\n"
   ]
  },
  {
   "cell_type": "code",
   "execution_count": 16,
   "metadata": {
    "collapsed": false
   },
   "outputs": [
    {
     "data": {
      "text/plain": [
       "SVC(C=1.0, cache_size=200, class_weight=None, coef0=0.0,\n",
       "  decision_function_shape=None, degree=3, gamma=0.001, kernel='rbf',\n",
       "  max_iter=-1, probability=False, random_state=None, shrinking=True,\n",
       "  tol=0.001, verbose=False)"
      ]
     },
     "execution_count": 16,
     "metadata": {},
     "output_type": "execute_result"
    }
   ],
   "source": [
    "#Using a support vector classifier\n",
    "classifier = svm.SVC(gamma=0.001)\n",
    "#classifier = neighbors.KNeighborsClassifier()\n",
    "#classifier = linear_model.LogisticRegression()\n",
    "classifier.fit(X_trainingset,Y_trainingset )\n",
    "\n",
    "\n"
   ]
  },
  {
   "cell_type": "markdown",
   "metadata": {},
   "source": [
    "## 2. Test / Evaluate"
   ]
  },
  {
   "cell_type": "code",
   "execution_count": 17,
   "metadata": {
    "collapsed": false
   },
   "outputs": [
    {
     "name": "stdout",
     "output_type": "stream",
     "text": [
      "Classification report for classifier SVC(C=1.0, cache_size=200, class_weight=None, coef0=0.0,\n",
      "  decision_function_shape=None, degree=3, gamma=0.001, kernel='rbf',\n",
      "  max_iter=-1, probability=False, random_state=None, shrinking=True,\n",
      "  tol=0.001, verbose=False):\n",
      "             precision    recall  f1-score   support\n",
      "\n",
      "          0       0.72      0.94      0.81        35\n",
      "          1       0.98      0.88      0.93       107\n",
      "\n",
      "avg / total       0.91      0.89      0.90       142\n",
      "\n",
      "\n",
      "Confusion matrix:\n",
      "[[33  2]\n",
      " [13 94]]\n"
     ]
    }
   ],
   "source": [
    "expected = y_testset\n",
    "predicted = classifier.predict(X_testset)\n",
    "print(\"Classification report for classifier %s:\\n%s\\n\"\n",
    "% (classifier, metrics.classification_report(expected, predicted)))\n",
    "print(\"Confusion matrix:\\n%s\" % metrics.confusion_matrix(expected, predicted))"
   ]
  },
  {
   "cell_type": "markdown",
   "metadata": {},
   "source": [
    "## 3. Apply"
   ]
  },
  {
   "cell_type": "code",
   "execution_count": 20,
   "metadata": {
    "collapsed": false
   },
   "outputs": [
    {
     "name": "stdout",
     "output_type": "stream",
     "text": [
      "For this new case we predicted  malignant  while the true value was  benign\n"
     ]
    },
    {
     "name": "stderr",
     "output_type": "stream",
     "text": [
      "//anaconda/lib/python3.5/site-packages/sklearn/utils/validation.py:395: DeprecationWarning: Passing 1d arrays as data is deprecated in 0.17 and will raise ValueError in 0.19. Reshape your data either using X.reshape(-1, 1) if your data has a single feature or X.reshape(1, -1) if it contains a single sample.\n",
      "  DeprecationWarning)\n"
     ]
    }
   ],
   "source": [
    "new_case = classifier.predict(real_world_X)\n",
    "print('For this new case we predicted ', bc.target_names[new_case[0]], ' while the true value was ' ,\n",
    "      bc.target_names[real_world_y])"
   ]
  },
  {
   "cell_type": "code",
   "execution_count": null,
   "metadata": {
    "collapsed": true
   },
   "outputs": [],
   "source": []
  }
 ],
 "metadata": {
  "anaconda-cloud": {},
  "kernelspec": {
   "display_name": "Python [Root]",
   "language": "python",
   "name": "Python [Root]"
  },
  "language_info": {
   "codemirror_mode": {
    "name": "ipython",
    "version": 3
   },
   "file_extension": ".py",
   "mimetype": "text/x-python",
   "name": "python",
   "nbconvert_exporter": "python",
   "pygments_lexer": "ipython3",
   "version": "3.5.2"
  }
 },
 "nbformat": 4,
 "nbformat_minor": 0
}

{
 "cells": [
  {
   "cell_type": "markdown",
   "metadata": {},
   "source": [
    "The diabetes dataset consists of 10 physiological variables (age, sex, weight, blood pressure) measure on 442\n",
    "patients, and an indication of disease progression after one year:"
   ]
  },
  {
   "cell_type": "code",
   "execution_count": null,
   "metadata": {
    "collapsed": false
   },
   "outputs": [],
   "source": [
    "#importations\n",
    "from sklearn import datasets,svm,metrics, neighbors, linear_model"
   ]
  },
  {
   "cell_type": "markdown",
   "metadata": {},
   "source": [
    "## 1. Train\n",
    "### a.) Load the data"
   ]
  },
  {
   "cell_type": "code",
   "execution_count": null,
   "metadata": {
    "collapsed": false
   },
   "outputs": [],
   "source": [
    "bc = datasets.load_breast_cancer()\n",
    "data = bc.data\n",
    "data.shape"
   ]
  },
  {
   "cell_type": "code",
   "execution_count": null,
   "metadata": {
    "collapsed": false
   },
   "outputs": [],
   "source": [
    "targets = bc.target\n",
    "n_samples = len(targets)\n",
    "targets.shape"
   ]
  },
  {
   "cell_type": "code",
   "execution_count": null,
   "metadata": {
    "collapsed": false
   },
   "outputs": [],
   "source": [
    "bc.target_names"
   ]
  },
  {
   "cell_type": "markdown",
   "metadata": {},
   "source": [
    "### b.) Separate the Training set and the Test set"
   ]
  },
  {
   "cell_type": "code",
   "execution_count": null,
   "metadata": {
    "collapsed": false
   },
   "outputs": [],
   "source": [
    "X_trainingset = data[:n_samples / 1.2]\n",
    "Y_trainingset = targets[:n_samples / 1.2]\n",
    "\n",
    "X_testset = data[n_samples / 1.2:-1]\n",
    "y_testset = targets[n_samples / 1.2:-1]\n",
    "\n",
    "#Assume this was a new case from the real world\n",
    "real_world_X = data[-1]\n",
    "real_world_y = targets[-1]\n",
    "\n",
    "print('The input training set is of shape: ',X_trainingset.shape)\n",
    "print('The input test set is of shape: ',X_testset.shape)\n"
   ]
  },
  {
   "cell_type": "markdown",
   "metadata": {},
   "source": [
    "### c.) Create and train a classifier\n"
   ]
  },
  {
   "cell_type": "code",
   "execution_count": null,
   "metadata": {
    "collapsed": false
   },
   "outputs": [],
   "source": [
    "#Using a support vector classifier\n",
    "classifier = svm.SVC(gamma=0.001)\n",
    "#classifier = neighbors.KNeighborsClassifier()\n",
    "#classifier = linear_model.LogisticRegression()\n",
    "classifier.fit(X_trainingset,Y_trainingset )\n",
    "\n",
    "\n"
   ]
  },
  {
   "cell_type": "markdown",
   "metadata": {},
   "source": [
    "## 2. Test / Evaluate"
   ]
  },
  {
   "cell_type": "code",
   "execution_count": null,
   "metadata": {
    "collapsed": false
   },
   "outputs": [],
   "source": [
    "expected = y_testset\n",
    "predicted = classifier.predict(X_testset)\n",
    "print(\"Classification report for classifier %s:\\n%s\\n\"\n",
    "% (classifier, metrics.classification_report(expected, predicted)))\n",
    "print(\"Confusion matrix:\\n%s\" % metrics.confusion_matrix(expected, predicted))"
   ]
  },
  {
   "cell_type": "markdown",
   "metadata": {},
   "source": [
    "## 3. Apply"
   ]
  },
  {
   "cell_type": "code",
   "execution_count": null,
   "metadata": {
    "collapsed": false
   },
   "outputs": [],
   "source": [
    "new_case = classifier.predict(real_world_X)\n",
    "print('For this new case we predicted ', bc.target_names[new_case[0]], ' while the true value was ' ,  bc.target_names[real_world_y])"
   ]
  },
  {
   "cell_type": "code",
   "execution_count": null,
   "metadata": {
    "collapsed": true
   },
   "outputs": [],
   "source": []
  }
 ],
 "metadata": {
  "kernelspec": {
   "display_name": "Python [Root]",
   "language": "python",
   "name": "Python [Root]"
  },
  "language_info": {
   "codemirror_mode": {
    "name": "ipython",
    "version": 3
   },
   "file_extension": ".py",
   "mimetype": "text/x-python",
   "name": "python",
   "nbconvert_exporter": "python",
   "pygments_lexer": "ipython3",
   "version": "3.5.2"
  }
 },
 "nbformat": 4,
 "nbformat_minor": 0
}
